{
  "nbformat": 4,
  "nbformat_minor": 0,
  "metadata": {
    "colab": {
      "provenance": [],
      "collapsed_sections": [],
      "authorship_tag": "ABX9TyPHvgI41COGf6tPDZ1iNGWz",
      "include_colab_link": true
    },
    "kernelspec": {
      "name": "python3",
      "display_name": "Python 3"
    },
    "language_info": {
      "name": "python"
    }
  },
  "cells": [
    {
      "cell_type": "markdown",
      "metadata": {
        "id": "view-in-github",
        "colab_type": "text"
      },
      "source": [
        "<a href=\"https://colab.research.google.com/github/tomersk/python-applications/blob/main/04_01.ipynb\" target=\"_parent\"><img src=\"https://colab.research.google.com/assets/colab-badge.svg\" alt=\"Open In Colab\"/></a>"
      ]
    },
    {
      "cell_type": "markdown",
      "source": [
        "# 4.1 SCS Curve Number (CN) Method\n",
        "The Soil Conservation Service devloped a simple method for computing abstrations from storm rainfall based on Curve Number. \n",
        "As per curve number method, excess precipitation or direct runoff is given by:\n",
        "\n",
        "${P_e} = \\frac{(P-I_a)^2}{P-I_a+S}$\n",
        "\n",
        "where, $P$ = total rainfall, $I_a$ = initial abstraction, $S$ = potential maximum retention which is given as:\n",
        "\n",
        "$S = \\frac{1000}{CN}-10$\n",
        "\n",
        "where $CN$ = Curve Number depending on LULC, soil type and antecedant moisture condition.\n"
      ],
      "metadata": {
        "id": "u-2KPRL3JoDL"
      }
    },
    {
      "cell_type": "code",
      "execution_count": null,
      "metadata": {
        "id": "-CNv-u2LEv3A"
      },
      "outputs": [],
      "source": [
        "import numpy as np\n",
        "def CN_Runoff(CN,P):\n",
        "  S = 1000/CN - 10\n",
        "  Pe = ((P-0.2*S)**2)/(P+0.8*S)\n",
        "  print('Direct Runoff is = ',Pe,' in')\n",
        "  return(Pe)"
      ]
    },
    {
      "cell_type": "code",
      "source": [
        "# Example\n",
        "CN = 83.8\n",
        "P = 5\n",
        "Pe = CN_Runoff(CN,P)"
      ],
      "metadata": {
        "colab": {
          "base_uri": "https://localhost:8080/"
        },
        "id": "D5jFpBcOF3S2",
        "outputId": "26c43d0a-3002-40ab-b1d7-944ddd810ce6"
      },
      "execution_count": null,
      "outputs": [
        {
          "output_type": "stream",
          "name": "stdout",
          "text": [
            "Direct Runoff is =  3.251051711581748  in\n"
          ]
        }
      ]
    }
  ]
}