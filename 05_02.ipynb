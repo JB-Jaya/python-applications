{
  "nbformat": 4,
  "nbformat_minor": 0,
  "metadata": {
    "colab": {
      "provenance": [],
      "authorship_tag": "ABX9TyMuj0cVYqjPwC9qzn+tDM8V",
      "include_colab_link": true
    },
    "kernelspec": {
      "name": "python3",
      "display_name": "Python 3"
    },
    "language_info": {
      "name": "python"
    }
  },
  "cells": [
    {
      "cell_type": "markdown",
      "metadata": {
        "id": "view-in-github",
        "colab_type": "text"
      },
      "source": [
        "<a href=\"https://colab.research.google.com/github/tomersk/python-applications/blob/main/05_02.ipynb\" target=\"_parent\"><img src=\"https://colab.research.google.com/assets/colab-badge.svg\" alt=\"Open In Colab\"/></a>"
      ]
    },
    {
      "cell_type": "markdown",
      "source": [
        "## 5.2 Bucket model\n",
        "\n",
        "Soil moisture reservoir can be thought of a bucket with leak. Rainfall is like adding water into the bucket, actual evapotranspiration is like water going into the atmosphere, leak in the bucket is like recharge to groundwater.\n",
        "\n",
        "$\\frac{dS}{dt} = Rain - AET - Leak $\n",
        "\n",
        "$Leak$ can be modelled as a faction of available SM ($S$),\n",
        "\n",
        "$\\frac{dS}{dt} = Rain - AET - \\alpha S $\n",
        "\n",
        "Above equation is discretized and solved numerically by using explict scheme. "
      ],
      "metadata": {
        "id": "wBu4zoI9k5Qu"
      }
    },
    {
      "cell_type": "code",
      "execution_count": 15,
      "metadata": {
        "colab": {
          "base_uri": "https://localhost:8080/",
          "height": 279
        },
        "id": "xockC0JQk3Gq",
        "outputId": "7b3f5aae-8b29-47bf-ee33-1be1a67b0adc"
      },
      "outputs": [
        {
          "output_type": "display_data",
          "data": {
            "text/plain": [
              "<Figure size 432x288 with 2 Axes>"
            ],
            "image/png": "[encoded data removed]"
          },
          "metadata": {
            "needs_background": "light"
          }
        }
      ],
      "source": [
        "import numpy as np\n",
        "import matplotlib.pyplot as plt\n",
        "\n",
        "rain = np.array([2,0,0.5,5,0,0,0,0,0,0,4.5,0,13,34.5,8.5,0,0.5,9,0,0,16.5,0,4,\n",
        "                 19.5,0,0,0.5,3,13.5,0,6.5,6])\n",
        "pet = np.array([1.8,4.5,4.8,3.5,4.7,4.8,4.6,5.2,2.5,4.8,5.0,4.8,4.0,4.5,4.5,4.6,\n",
        "                4.5,3.8,4.0,4.6,4.4,4.3,4.1,4.6,4.0,4.7,3.6,3.6,3.2,4.5,3.2,3.1])\n",
        "\n",
        "rain = rain/1000 # convert from mm to m\n",
        "pet = pet/1000 # convert from mm to m\n",
        "\n",
        "n = len(rain)\n",
        "sm = np.empty(n+1)\n",
        "sm[0] = 0.2 # initial condition\n",
        "Z = 1.0 # depth of soil profile [m]\n",
        "r = 0.01 # percentage of water going as recharge to groundwater\n",
        "evap_0\t= 0.25\n",
        "evap_1 = 0.35\n",
        "thetas = 0.5 # saturated soil moisture\n",
        "for i in range(n):\n",
        "  smi = (sm[i]-evap_0)/(evap_1 - evap_0)\n",
        "  if smi<0: smi=0\n",
        "  if smi>1: smi=1\n",
        "  aet = smi*pet[i]\n",
        "  sm[i+1] = (1-r)*sm[i] + (rain[i] - aet)/Z\n",
        "  if sm[i+1]>thetas: sm[i+1] = thetas\n",
        "  #print(i)\n",
        "\n",
        "plt.subplot(211)\n",
        "plt.bar(range(n),rain*1000)\n",
        "plt.ylabel(\"Rainfall (mm)\")\n",
        "\n",
        "plt.subplot(212)\n",
        "plt.plot(sm)\n",
        "plt.xlabel(\"Time (days)\")\n",
        "plt.ylabel(\"SM\")\n",
        "plt.show()"
      ]
    }
  ]
}